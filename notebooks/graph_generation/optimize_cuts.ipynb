{
 "cells": [
  {
   "cell_type": "code",
   "execution_count": 1,
   "metadata": {},
   "outputs": [],
   "source": [
    "import numpy as np\n",
    "from datasets.graph import load_graph\n",
    "from matplotlib import pyplot as plt"
   ]
  },
  {
   "cell_type": "code",
   "execution_count": 2,
   "metadata": {},
   "outputs": [],
   "source": [
    "# This function opens a preprocessed graph and grabs all the phi_slope, z0 and truth info\n",
    "def get_z0_phi_slope(fname):\n",
    "    g = load_graph(fname)\n",
    "\n",
    "    n_nodes = g.Ro[2]\n",
    "    n_edges = g.Ro[3]\n",
    "    X = g.X\n",
    "    y = g.y\n",
    "    Ro_flat = g.Ro[0][0][np.argsort(g.Ro[0][1])]           \n",
    "    Ri_flat = g.Ri[0][0][np.argsort(g.Ri[0][1])]                       \n",
    "\n",
    "\n",
    "    R_coordinate = np.zeros(n_nodes)\n",
    "    R_coordinate[:] = 1000*X[:,0]\n",
    "\n",
    "    Z_coordinate = np.zeros(n_nodes)\n",
    "    Z_coordinate[:] = 1000*X[:,2]\n",
    "\n",
    "    Phi_coordinate = np.zeros(n_nodes)\n",
    "    Phi_coordinate[:] = np.pi*X[:,1]\n",
    "\n",
    "    delta_R   = np.zeros(n_edges)\n",
    "    delta_phi = np.zeros(n_edges)\n",
    "    delta_Z = np.zeros(n_edges)\n",
    "    Z0      = np.zeros(n_edges)\n",
    "\n",
    "    for i in range(n_edges):\n",
    "        delta_R[i] = R_coordinate[Ri_flat[i]] - R_coordinate[Ro_flat[i]]\n",
    "        delta_Z[i] = Z_coordinate[Ri_flat[i]] - Z_coordinate[Ro_flat[i]]\n",
    "        Z0[i]      = Z_coordinate[Ri_flat[i]] - R_coordinate[Ri_flat[i]] * delta_Z[i] / delta_R[i]\n",
    "        delta_phi[i] = abs(Phi_coordinate[Ri_flat[i]] - Phi_coordinate[Ro_flat[i]])\n",
    "        if delta_phi[i] > np.pi:\n",
    "            delta_phi[i] = abs(delta_phi[i] - 2*np.pi)\n",
    "\n",
    "    phi_slope = abs(delta_phi/delta_R)\n",
    "#     phi_slope_true  = phi_slope[y > 0]\n",
    "#     Z0_true  = abs(Z0[y > 0])\n",
    "           \n",
    "    return abs(Z0), phi_slope, y"
   ]
  },
  {
   "cell_type": "code",
   "execution_count": 3,
   "metadata": {},
   "outputs": [],
   "source": [
    "# Loop over all the events and concatanate all the vectors into one large one\n",
    "N_events = 100\n",
    "\n",
    "for i in range(N_events):\n",
    "    event_num = 1000 + i \n",
    "    fname = '/data/gnn_code/heptrkx-gnn-tracking/output/event00000' + str(event_num) + '_g000.npz'\n",
    "\n",
    "    file_results = get_z0_phi_slope(fname)\n",
    "    if i == 0:\n",
    "        z0        = file_results[0]\n",
    "        phi_slope = file_results[1]\n",
    "        y         = file_results[2]\n",
    "        \n",
    "    else:\n",
    "        z0        = np.append(z0,        file_results[0])\n",
    "        phi_slope = np.append(phi_slope, file_results[1])\n",
    "        y         = np.append(y,         file_results[2])"
   ]
  },
  {
   "cell_type": "code",
   "execution_count": 4,
   "metadata": {},
   "outputs": [
    {
     "data": {
      "text/plain": [
       "Text(0, 0.5, 'phi slope')"
      ]
     },
     "execution_count": 4,
     "metadata": {},
     "output_type": "execute_result"
    },
    {
     "data": {
      "image/png": "[encoded data removed]",
      "text/plain": [
       "<Figure size 432x288 with 1 Axes>"
      ]
     },
     "metadata": {
      "needs_background": "light"
     },
     "output_type": "display_data"
    }
   ],
   "source": [
    "# Plot the truth distibutions\n",
    "plt.hist2d(z0[y > 0], phi_slope[y > 0], 200)\n",
    "plt.xlabel(\"z0 [mm]\")\n",
    "plt.ylabel(\"phi slope\")"
   ]
  },
  {
   "cell_type": "code",
   "execution_count": 5,
   "metadata": {},
   "outputs": [
    {
     "data": {
      "text/plain": [
       "Text(0, 0.5, 'phi slope')"
      ]
     },
     "execution_count": 5,
     "metadata": {},
     "output_type": "execute_result"
    },
    {
     "data": {
      "image/png": "[encoded data removed]",
      "text/plain": [
       "<Figure size 432x288 with 1 Axes>"
      ]
     },
     "metadata": {
      "needs_background": "light"
     },
     "output_type": "display_data"
    }
   ],
   "source": [
    "# Plot the truth distibutions\n",
    "plt.hist2d(z0[y < 1], phi_slope[y < 1], 200)\n",
    "plt.xlabel(\"z0 [mm]\")\n",
    "plt.ylabel(\"phi slope\")"
   ]
  },
  {
   "cell_type": "code",
   "execution_count": 6,
   "metadata": {},
   "outputs": [
    {
     "name": "stdout",
     "output_type": "stream",
     "text": [
      "11.577999999999022 0.9700118764845606\n"
     ]
    }
   ],
   "source": [
    "# Find the optimal z0 cut value for a given truth efficiency threshold\n",
    "z0_true = z0[y > 0]\n",
    "N_edges_true = len(z0_true)\n",
    "threshold = .97\n",
    "fraction = 0\n",
    "cut = 0\n",
    "while (fraction < threshold):\n",
    "    cut += .001\n",
    "    z0_cut_opt = z0_true[z0_true < cut]\n",
    "    fraction = len(z0_cut_opt)/N_edges_true\n",
    "print(cut, fraction)\n",
    "z0_value = cut"
   ]
  },
  {
   "cell_type": "code",
   "execution_count": 7,
   "metadata": {},
   "outputs": [
    {
     "name": "stdout",
     "output_type": "stream",
     "text": [
      "0.0001460000000000027 0.9701603325415677\n"
     ]
    }
   ],
   "source": [
    "# Find the optimal phi slope cut value for a given truth efficiency threshold\n",
    "phi_slope_true = phi_slope[y > 0]\n",
    "N_edges_true = len(phi_slope_true)\n",
    "threshold = .97\n",
    "fraction = 0\n",
    "cut = 0\n",
    "while (fraction < threshold):\n",
    "    cut += .0000001\n",
    "    phi_cut_opt = phi_slope_true[phi_slope_true < cut]\n",
    "    fraction = len(phi_cut_opt)/N_edges_true\n",
    "print(cut, fraction)\n",
    "phi_value = cut"
   ]
  },
  {
   "cell_type": "code",
   "execution_count": 8,
   "metadata": {
    "scrolled": true
   },
   "outputs": [
    {
     "name": "stdout",
     "output_type": "stream",
     "text": [
      "Using cut z0 < 11.577999999999022\n",
      "Using cut phi slope < 0.0001460000000000027\n",
      "Truth Efficiency = 0.9456650831353919\n"
     ]
    }
   ],
   "source": [
    "# Calculate the combined truth efficiency\n",
    "# Want this value close to 1\n",
    "z0_z0cut        = z0_true       [z0_true < z0_value]\n",
    "phi_slope_z0cut = phi_slope_true[z0_true < z0_value]\n",
    "N_edges_cut1 = len(z0_z0cut)\n",
    "print('Using cut z0 < ' + str(z0_value))\n",
    "# print('Remaining Fraction = ' + str(N_edges_cut1/N_edges_true))\n",
    "\n",
    "z0_cut        = z0_z0cut       [phi_slope_z0cut < phi_value]\n",
    "phi_slope_cut = phi_slope_z0cut[phi_slope_z0cut < phi_value]\n",
    "N_edges_cut2 = len(z0_cut)\n",
    "print('Using cut phi slope < ' + str(phi_value))\n",
    "print('Truth Efficiency = ' + str(N_edges_cut2/N_edges_true))"
   ]
  },
  {
   "cell_type": "code",
   "execution_count": 9,
   "metadata": {},
   "outputs": [
    {
     "data": {
      "text/plain": [
       "Text(0, 0.5, 'phi slope')"
      ]
     },
     "execution_count": 9,
     "metadata": {},
     "output_type": "execute_result"
    },
    {
     "data": {
      "image/png": "[encoded data removed]",
      "text/plain": [
       "<Figure size 432x288 with 1 Axes>"
      ]
     },
     "metadata": {
      "needs_background": "light"
     },
     "output_type": "display_data"
    }
   ],
   "source": [
    "# Plot after cuts\n",
    "plt.hist2d(z0_cut, phi_slope_cut, 200)\n",
    "plt.xlabel(\"z0 [mm]\")\n",
    "plt.ylabel(\"phi slope\")"
   ]
  },
  {
   "cell_type": "code",
   "execution_count": 10,
   "metadata": {},
   "outputs": [
    {
     "name": "stdout",
     "output_type": "stream",
     "text": [
      "Initial Purity = 0.6695825049701789\n",
      "Purity after phi slope cut = 0.878596396880882\n",
      "Purity after z0 cut  = 0.7817659727207465\n",
      "Final Purity = 0.9274898078043099\n"
     ]
    }
   ],
   "source": [
    "# Calculate the truth edge purity\n",
    "# Want this value close to .5\n",
    "\n",
    "print(\"Initial Purity = \" + str(len(y[y > 0])/len(y)))\n",
    "y_cut = y[phi_slope < phi_value]\n",
    "print(\"Purity after phi slope cut = \" + str(len(y_cut[y_cut > 0])/len(y_cut)))\n",
    "y_cut = y[z0 < z0_value]\n",
    "print(\"Purity after z0 cut  = \" + str(len(y_cut[y_cut > 0])/len(y_cut)))\n",
    "\n",
    "\n",
    "y_cut   = y[phi_slope < phi_value]\n",
    "z0_cut  = z0[phi_slope < phi_value]\n",
    "phi_cut = phi_slope[phi_slope < phi_value]\n",
    "y_cut2  = y_cut[z0_cut < z0_value]\n",
    "\n",
    "print(\"Final Purity = \" + str(len(y_cut2[y_cut2 > 0])/len(y_cut2)))"
   ]
  },
  {
   "cell_type": "code",
   "execution_count": 11,
   "metadata": {},
   "outputs": [],
   "source": [
    "# Find the optimal z0 cut value for a given truth efficiency threshold\n",
    "# y_cut   = y[phi_slope < phi_value]\n",
    "# z0_cut  = z0[phi_slope < phi_value]\n",
    "\n",
    "# print(len(z0_cut[y_cut > 0]) / len(z0_cut))\n",
    "\n",
    "# threshold = .5\n",
    "# fraction = 1\n",
    "# cut = 0\n",
    "# while (fraction > threshold):\n",
    "#     cut += 1\n",
    "#     y_cut_opt  = y_cut[z0_cut < cut]\n",
    "#     z0_cut_opt = z0_cut[z0_cut < cut]\n",
    "#     fraction = len(z0_cut_opt[y_cut_opt > 0]) / len(z0_cut_opt)\n",
    "#     print(cut, fraction)\n",
    "# z0_value = cut"
   ]
  },
  {
   "cell_type": "code",
   "execution_count": null,
   "metadata": {},
   "outputs": [],
   "source": []
  }
 ],
 "metadata": {
  "kernelspec": {
   "display_name": "Python 3",
   "language": "python",
   "name": "python3"
  },
  "language_info": {
   "codemirror_mode": {
    "name": "ipython",
    "version": 3
   },
   "file_extension": ".py",
   "mimetype": "text/x-python",
   "name": "python",
   "nbconvert_exporter": "python",
   "pygments_lexer": "ipython3",
   "version": "3.6.9"
  }
 },
 "nbformat": 4,
 "nbformat_minor": 2
}
