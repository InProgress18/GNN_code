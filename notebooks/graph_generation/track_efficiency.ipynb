{
 "cells": [
  {
   "cell_type": "code",
   "execution_count": 1,
   "metadata": {},
   "outputs": [],
   "source": [
    "import numpy as np\n",
    "from scipy.sparse import csr_matrix, find\n",
    "from scipy.spatial import cKDTree\n",
    "from tqdm import tqdm_notebook as tqdm\n",
    "\n",
    "from datasets.graph import draw_sample\n",
    "import torch\n",
    "\n",
    "#dataset = 'all_track'\n",
    "#dataset = 'all_track_lowpt'\n",
    "#dataset = 'all_track_id'\n",
    "#dataset = 'all_track_lowpt_id'\n",
    "#dataset = 'all_track_ec'\n",
    "#dataset = 'all_track_lowpt_ec'\n",
    "#dataset = 'all_track_eco'\n",
    "#dataset = 'all_track_lowpt_eco'\n",
    "#dataset = 'all_track_dr'\n",
    "#dataset = 'all_track_lowpt_dr'\n",
    "#dataset = 'all_track_lowpt_id_inv'\n",
    "#dataset = 'all_track_lowpt_id_invs'\n",
    "#dataset = 'all_track_id_aug'\n",
    "#dataset = 'all_track_lowpt_id_aug'\n",
    "\n",
    "# dataset = 'barrel_pt2.0'\n",
    "# dataset = 'barrel_pt2.0_original'\n",
    "# dataset = 'barrel_pt2.0_tuned'\n",
    "# dataset = 'barrel_pt2.0_phi'\n",
    "\n",
    "# dataset = 'endcap_pt2.0'\n",
    "# dataset = 'endcap_pt2.0_original'\n",
    "# dataset = 'endcap_pt2.0_tuned'\n",
    "# dataset = 'endcap_pt2.0_phi'\n",
    "\n",
    "# dataset = 'detector_pt2.0'\n",
    "# dataset = 'detector_pt2.0_balanced'\n",
    "# dataset = 'detector_pt2.0_original'\n",
    "# dataset = 'detector_pt2.0_tuned'\n",
    "# dataset = 'detector_pt2.0_phi'\n",
    "# dataset = 'detector_pt2.0_intersect2'\n",
    "# dataset = 'detector_pt2.0_phioptimize'\n",
    "# dataset = 'detector_pt2.0_z0optimize'\n",
    "# dataset = 'detector_pt2.0_noz0'\n",
    "dataset = 'detector_pt2.0_nobatch'\n",
    "\n",
    "# dataset = 'detector_pt0.5'\n",
    "# dataset = 'detector_pt1.0'\n",
    "# dataset = 'detector_pt1.5'\n",
    "# dataset = 'detector_pt2.0'\n",
    "# dataset = 'detector_pt2.5'\n",
    "# dataset = 'detector_pt3.0'\n",
    "# dataset = 'detector_pt3.5'\n",
    "# dataset = 'detector_pt4.0'\n",
    "# dataset = 'detector_pt4.5'\n",
    "# dataset = 'detector_pt5.0'\n",
    "\n",
    "\n",
    "\n",
    "model_fname = '/data/gnn_code/hgcal_ldrd/output/'+dataset+'/checkpoints/model_checkpoint_EdgeNetWithCategories_259075_140efb4178_markus.best.pth.tar'\n",
    "plot_prefix = '/data/gnn_code/hgcal_ldrd/plots/'+dataset+'_'\n",
    "\n",
    "#dataset = 'all_track_id'\n",
    "test_fname = '/data/gnn_code/training_data/'+dataset+'/test/data_99.pt'"
   ]
  },
  {
   "cell_type": "code",
   "execution_count": 2,
   "metadata": {},
   "outputs": [
    {
     "data": {
      "text/plain": [
       "EdgeNetWithCategories(\n",
       "  (inputnet): Sequential(\n",
       "    (0): Linear(in_features=3, out_features=128, bias=True)\n",
       "    (1): Tanh()\n",
       "    (2): Linear(in_features=128, out_features=128, bias=True)\n",
       "    (3): Tanh()\n",
       "    (4): Linear(in_features=128, out_features=64, bias=True)\n",
       "    (5): Tanh()\n",
       "  )\n",
       "  (edgenetwork): Sequential(\n",
       "    (0): Linear(in_features=768, out_features=128, bias=True)\n",
       "    (1): ELU(alpha=1.0)\n",
       "    (2): Linear(in_features=128, out_features=128, bias=True)\n",
       "    (3): ELU(alpha=1.0)\n",
       "    (4): Linear(in_features=128, out_features=2, bias=True)\n",
       "    (5): LogSoftmax()\n",
       "  )\n",
       "  (nodenetwork0): EdgeConv(nn=Sequential(\n",
       "    (0): Linear(in_features=134, out_features=99, bias=True)\n",
       "    (1): ELU(alpha=1.0)\n",
       "    (2): Linear(in_features=99, out_features=64, bias=True)\n",
       "    (3): ELU(alpha=1.0)\n",
       "  ))\n",
       "  (nodenetwork1): EdgeConv(nn=Sequential(\n",
       "    (0): Linear(in_features=134, out_features=99, bias=True)\n",
       "    (1): ELU(alpha=1.0)\n",
       "    (2): Linear(in_features=99, out_features=64, bias=True)\n",
       "    (3): ELU(alpha=1.0)\n",
       "  ))\n",
       "  (nodenetwork2): EdgeConv(nn=Sequential(\n",
       "    (0): Linear(in_features=134, out_features=99, bias=True)\n",
       "    (1): ELU(alpha=1.0)\n",
       "    (2): Linear(in_features=99, out_features=64, bias=True)\n",
       "    (3): ELU(alpha=1.0)\n",
       "  ))\n",
       "  (nodenetwork3): EdgeConv(nn=Sequential(\n",
       "    (0): Linear(in_features=134, out_features=99, bias=True)\n",
       "    (1): ELU(alpha=1.0)\n",
       "    (2): Linear(in_features=99, out_features=64, bias=True)\n",
       "    (3): ELU(alpha=1.0)\n",
       "  ))\n",
       "  (nodenetwork4): EdgeConv(nn=Sequential(\n",
       "    (0): Linear(in_features=134, out_features=99, bias=True)\n",
       "    (1): ELU(alpha=1.0)\n",
       "    (2): Linear(in_features=99, out_features=64, bias=True)\n",
       "    (3): ELU(alpha=1.0)\n",
       "  ))\n",
       "  (nodenetwork5): EdgeConv(nn=Sequential(\n",
       "    (0): Linear(in_features=134, out_features=99, bias=True)\n",
       "    (1): ELU(alpha=1.0)\n",
       "    (2): Linear(in_features=99, out_features=64, bias=True)\n",
       "    (3): ELU(alpha=1.0)\n",
       "  ))\n",
       ")"
      ]
     },
     "execution_count": 2,
     "metadata": {},
     "output_type": "execute_result"
    }
   ],
   "source": [
    "from models.EdgeNetWithCategories import EdgeNetWithCategories\n",
    "\n",
    "#mdl = EdgeNetWithCategories(input_dim=5, hidden_dim=64, output_dim=4, n_iters=6).to('cuda:0')\n",
    "mdl = EdgeNetWithCategories(input_dim=3, hidden_dim=64, output_dim=2, n_iters=6).to('cuda:0')\n",
    "\n",
    "mdl.load_state_dict(torch.load(model_fname)['model'])\n",
    "mdl.eval()"
   ]
  },
  {
   "cell_type": "code",
   "execution_count": 3,
   "metadata": {},
   "outputs": [],
   "source": [
    "def compare_clusters(cluster1, cluster2):\n",
    "    if len(cluster1) == len(cluster2):\n",
    "        for i in range(len(cluster1)):\n",
    "            if cluster1[i] != cluster2[i]:\n",
    "                return 0\n",
    "        return 1\n",
    "    else:\n",
    "        return 0\n"
   ]
  },
  {
   "cell_type": "code",
   "execution_count": 4,
   "metadata": {},
   "outputs": [],
   "source": [
    "def process_file(fname):\n",
    "    data = torch.load(fname).to('cuda:0')\n",
    "    \n",
    "    with torch.no_grad():\n",
    "        pred_edges = mdl(data).detach()\n",
    "        pred_edges_np = pred_edges.cpu().numpy()\n",
    "        \n",
    "    #print(np.unique(np.argmax(pred_edges_np,axis=-1), return_counts=True))\n",
    "    #print(torch.unique(data.y.cpu(), return_counts=True))\n",
    "    \n",
    "    X = data.x.cpu().numpy()\n",
    "    index = data.edge_index.cpu().numpy().T\n",
    "    y = data.y.cpu().numpy()\n",
    "\n",
    "    out = np.argmax(pred_edges_np,axis=-1)\n",
    "\n",
    "        \n",
    "    from unionfind import unionfind\n",
    "    finder_gnn = unionfind(X.shape[0])\n",
    "    finder_tru = unionfind(X.shape[0])\n",
    "\n",
    "    Hits_minimum = 3\n",
    "\n",
    "    for i in tqdm(range(index.shape[0])):\n",
    "        if out[i] == 1:\n",
    "            finder_gnn.unite(index[i,0], index[i,1])\n",
    "        if y[i] == 1:\n",
    "            finder_tru.unite(index[i,0], index[i,1])\n",
    "\n",
    "    gnn_roots = np.array([finder_gnn.find(i) for i in range(X.shape[0])], dtype=np.uint32)\n",
    "    tru_roots = np.array([finder_tru.find(i) for i in range(X.shape[0])], dtype=np.uint32)\n",
    "    \n",
    "    tru_clusters = np.unique(tru_roots, return_inverse=True, return_counts=True)\n",
    "    trus = tru_clusters[0][np.where(tru_clusters[2] >= Hits_minimum)]\n",
    "    tru_clusters_sel = {i: np.where(tru_roots == tru)[0] for i, tru in enumerate(trus)}\n",
    "\n",
    "    gnn_clusters = np.unique(gnn_roots, return_inverse=True, return_counts=True)\n",
    "    gnns = gnn_clusters[0][np.where(gnn_clusters[2] >= Hits_minimum)]\n",
    "    gnn_clusters_sel = {i: np.where(gnn_roots == gnn)[0] for i, gnn in enumerate(gnns)}\n",
    "\n",
    "    N_true = len(tru_clusters_sel)\n",
    "    N_gnn = len(gnn_clusters_sel)\n",
    "\n",
    "    N_matched = 0\n",
    "    N_fakes   = 0\n",
    "\n",
    "    for i in range(N_gnn):\n",
    "        match = 0\n",
    "        for j in range(N_true):\n",
    "            if compare_clusters(gnn_clusters_sel[i], tru_clusters_sel[j]):\n",
    "                match = 1\n",
    "        if match == 1:\n",
    "            N_matched = N_matched+1   \n",
    "        else:\n",
    "            N_fakes = N_fakes+1\n",
    "\n",
    "\n",
    "    track_efficiency = N_matched / N_true\n",
    "    fake_fraction = N_fakes / N_gnn\n",
    "\n",
    "#     print(\"Track Efficiency is \" + str(track_efficiency))\n",
    "#     print(\"Fake Fraction is \" + str(fake_fraction))\n",
    "    \n",
    "    return track_efficiency, fake_fraction"
   ]
  },
  {
   "cell_type": "code",
   "execution_count": 5,
   "metadata": {},
   "outputs": [],
   "source": [
    "data = torch.load(test_fname).to('cuda:0')\n",
    "\n",
    "with torch.no_grad():\n",
    "    pred_edges = mdl(data).detach()\n",
    "    pred_edges_np = pred_edges.cpu().numpy()\n",
    "\n",
    "#print(np.unique(np.argmax(pred_edges_np,axis=-1), return_counts=True))\n",
    "#print(torch.unique(data.y.cpu(), return_counts=True))\n",
    "\n",
    "X = data.x.cpu().numpy()\n",
    "index = data.edge_index.cpu().numpy().T\n",
    "y = data.y.cpu().numpy()\n",
    "\n",
    "out = np.argmax(pred_edges_np,axis=-1)\n",
    "\n",
    "Ro = index[:,0]\n",
    "Ri = index[:,1]\n",
    "\n",
    "Ro_truth = Ro[y>0]\n",
    "Ri_truth = Ri[y>0]\n",
    "Ro_out = Ro[out>0]\n",
    "Ri_out = Ri[out>0]\n",
    "\n",
    "errors = y-out\n",
    "\n",
    "Ro_fakes = Ro[errors<0]\n",
    "Ri_fakes = Ri[errors<0]\n",
    "Ro_missed = Ro[errors>0]\n",
    "Ri_missed = Ri[errors>0]\n",
    "\n",
    "n_nodes = X.shape[0]\n",
    "n_edges = y.size\n",
    "\n",
    "width1 = .1\n",
    "width2 = .2\n",
    "points = .25\n",
    "\n",
    "# #TrackML Barrel\n",
    "# if dataset == \"all_track\" or dataset == \"all_track_lowpt\":\n",
    "#     R_max = 1050\n",
    "#     Z_max = 1200\n",
    "\n",
    "# #TrackML Barrel: Inner Detector\n",
    "# elif dataset == \"all_track_id\" or dataset == \"all_track_lowpt_id\":\n",
    "#     R_max = 200\n",
    "#     Z_max = 600\n",
    "# elif dataset == \"all_track_id_aug\" or dataset == \"all_track_lowpt_id_aug\":\n",
    "#     R_max = 200\n",
    "#     Z_max = 600\n",
    "\n",
    "# #TrackML Barrel: Inner Detector\n",
    "# elif dataset == \"all_track_id_inv\" or dataset == \"all_track_lowpt_id_inv\":\n",
    "#     R_max = 40000\n",
    "#     Z_max = 600\n",
    "\n",
    "# #TrackML Barrel: Inner Detector\n",
    "# elif dataset == \"all_track_id_invs\" or dataset == \"all_track_lowpt_id_invs\":\n",
    "#     R_max = 35000\n",
    "#     Z_max = 20000\n",
    "\n",
    "# #TrackML Barrel/Endcap: Inner Detector\n",
    "# elif dataset == \"all_track_dr\" or dataset == \"all_track_lowpt_dr\" or dataset == \"all_track_ec\" or dataset == \"all_track_lowpt_ec\" or dataset == \"all_track_eco\" or dataset == \"all_track_lowpt_eco\":\n",
    "#     R_max = 200\n",
    "#     Z_max = 1600\n",
    "\n",
    "# elif dataset == \"detector_pt2.0\" or dataset == \"endcap_pt2.0\" or dataset == \"barrel_pt2.0\":\n",
    "R_max = 200\n",
    "Z_max = 1600\n",
    "\n",
    "#ATLAS Barrel: Inner Detector\n",
    "#R_max = 300\n",
    "#Z_max = 400\n",
    "\n",
    "#ATLAS Barrel\n",
    "#R_max = 1050\n",
    "#Z_max = 1500\n",
    "\n",
    "\n",
    "R_coordinate = np.zeros(n_nodes)\n",
    "Z_coordinate = np.zeros(n_nodes)\n",
    "Phi_coordinate = np.zeros(n_nodes)\n",
    "X_coordinate = np.zeros(n_nodes)\n",
    "Y_coordinate = np.zeros(n_nodes)\n",
    "\n",
    "for i in range(n_nodes):\n",
    "    R_coordinate[i] = 1000*X[i][0]\n",
    "    Phi_coordinate[i] = np.pi*X[i][1]\n",
    "    Z_coordinate[i] = 1000*X[i][2]\n",
    "    X_coordinate[i] = 1000*X[i][0]*np.cos(np.pi*X[i][1])\n",
    "    Y_coordinate[i] = 1000*X[i][0]*np.sin(np.pi*X[i][1])"
   ]
  },
  {
   "cell_type": "code",
   "execution_count": 6,
   "metadata": {},
   "outputs": [],
   "source": [
    "def draw_sample(x_coord, x_lab, x_min, x_max, y_coord, y_lab, y_min, y_max):\n",
    "    import matplotlib.pyplot as plt\n",
    "    #fig, (ax0,ax1,ax2) = plt.subplots(3, 1, dpi=400, figsize=(10, 30))\n",
    "    fig, (ax0) = plt.subplots(1, 1, dpi=400, figsize=(5, 5))\n",
    "\n",
    "    # Adjust axes\n",
    "    ax0.set_xlabel(x_lab)\n",
    "    ax0.set_ylabel(y_lab)\n",
    "    ax0.set_xlim(x_min, x_max)\n",
    "    ax0.set_ylim(y_min, y_max)\n",
    "#     ax1.set_xlabel(x_lab)\n",
    "#     ax1.set_ylabel(y_lab)\n",
    "#     ax1.set_xlim(x_min, x_max)\n",
    "#     ax1.set_ylim(y_min, y_max)\n",
    "#     ax2.set_xlabel(x_lab)\n",
    "#     ax2.set_ylabel(y_lab)\n",
    "#     ax2.set_xlim(x_min, x_max)\n",
    "#     ax2.set_ylim(y_min, y_max)\n",
    "\n",
    "    #plot points\n",
    "    ax0.scatter(x_coord, y_coord, s=points, c='k')\n",
    "#     ax1.scatter(x_coord, y_coord, s=points, c='k')\n",
    "#     ax2.scatter(x_coord, y_coord, s=points, c='k')\n",
    "\n",
    "    #Draw Edges\n",
    "#     ax0.plot([x_coord[Ro.astype(int)], x_coord[Ri.astype(int)]],\n",
    "#              [y_coord[Ro.astype(int)], y_coord[Ri.astype(int)]],\n",
    "#              '-', c='blue', linewidth=width1)\n",
    "#     ax0.plot([x_coord[Ro_truth.astype(int)], x_coord[Ri_truth.astype(int)]],\n",
    "#              [y_coord[Ro_truth.astype(int)], y_coord[Ri_truth.astype(int)]],\n",
    "#              '-', c='black', linewidth=width2)\n",
    "\n",
    "#     ax1.plot([x_coord[Ro.astype(int)], x_coord[Ri.astype(int)]],\n",
    "#              [y_coord[Ro.astype(int)], y_coord[Ri.astype(int)]],\n",
    "#              '-', c='blue', linewidth=width1) \n",
    "#     ax1.plot([x_coord[Ro_out.astype(int)], x_coord[Ri_out.astype(int)]],\n",
    "#              [y_coord[Ro_out.astype(int)], y_coord[Ri_out.astype(int)]],\n",
    "#              '-', c='black', linewidth=width2)\n",
    "    \n",
    "#     ax2.plot([x_coord[Ro_missed.astype(int)], x_coord[Ri_missed.astype(int)]],\n",
    "#              [y_coord[Ro_missed.astype(int)], y_coord[Ri_missed.astype(int)]],\n",
    "#              '-', c='red', linewidth=width2)\n",
    "#     ax2.plot([x_coord[Ro_fakes.astype(int)], x_coord[Ri_fakes.astype(int)]],\n",
    "#              [y_coord[Ro_fakes.astype(int)], y_coord[Ri_fakes.astype(int)]],\n",
    "#              '-', c='green', linewidth=width2)\n",
    "\n",
    "    ax0.plot([x_coord[Ro_missed.astype(int)], x_coord[Ri_missed.astype(int)]],\n",
    "             [y_coord[Ro_missed.astype(int)], y_coord[Ri_missed.astype(int)]],\n",
    "             '-', c='red', linewidth=width2)\n",
    "    ax0.plot([x_coord[Ro_fakes.astype(int)], x_coord[Ri_fakes.astype(int)]],\n",
    "             [y_coord[Ro_fakes.astype(int)], y_coord[Ri_fakes.astype(int)]],\n",
    "             '-', c='green', linewidth=width2)\n",
    "    \n",
    "    if (x_lab == 'Z[mm]' and y_lab == 'R[mm]'):\n",
    "        ax0.plot([-490.975, 490.975], [71.56298065185547, 71.56298065185547],\n",
    "                 '-', c='blue', linewidth=width2)    \n",
    "        ax0.plot([-490.975, 490.975], [115.37811279296875, 115.37811279296875],\n",
    "                 '-', c='blue', linewidth=width2)\n",
    "        \n",
    "    fig.savefig(plot_prefix + x_lab + '_' + y_lab + '_error.png')"
   ]
  },
  {
   "cell_type": "code",
   "execution_count": 7,
   "metadata": {},
   "outputs": [
    {
     "name": "stderr",
     "output_type": "stream",
     "text": [
      "/home/atkinsn2/anaconda3/envs/hgcal-env/lib/python3.6/site-packages/ipykernel_launcher.py:24: TqdmDeprecationWarning: This function will be removed in tqdm==5.0.0\n",
      "Please use `tqdm.notebook.tqdm` instead of `tqdm.tqdm_notebook`\n"
     ]
    },
    {
     "data": {
      "application/vnd.jupyter.widget-view+json": {
       "model_id": "71b79e8215924c298bce83970b241ecb",
       "version_major": 2,
       "version_minor": 0
      },
      "text/plain": [
       "HBox(children=(FloatProgress(value=0.0, max=3136.0), HTML(value='')))"
      ]
     },
     "metadata": {},
     "output_type": "display_data"
    },
    {
     "name": "stdout",
     "output_type": "stream",
     "text": [
      "\n"
     ]
    },
    {
     "data": {
      "application/vnd.jupyter.widget-view+json": {
       "model_id": "64ea5efc42b14d84ae92c228a30b3db8",
       "version_major": 2,
       "version_minor": 0
      },
      "text/plain": [
       "HBox(children=(FloatProgress(value=0.0, max=3136.0), HTML(value='')))"
      ]
     },
     "metadata": {},
     "output_type": "display_data"
    },
    {
     "name": "stdout",
     "output_type": "stream",
     "text": [
      "\n"
     ]
    },
    {
     "data": {
      "application/vnd.jupyter.widget-view+json": {
       "model_id": "0115f6c983f042aa8496f02163415e73",
       "version_major": 2,
       "version_minor": 0
      },
      "text/plain": [
       "HBox(children=(FloatProgress(value=0.0, max=1436.0), HTML(value='')))"
      ]
     },
     "metadata": {},
     "output_type": "display_data"
    },
    {
     "name": "stdout",
     "output_type": "stream",
     "text": [
      "\n"
     ]
    },
    {
     "data": {
      "application/vnd.jupyter.widget-view+json": {
       "model_id": "24e31ab384d84626956e398e39fa274e",
       "version_major": 2,
       "version_minor": 0
      },
      "text/plain": [
       "HBox(children=(FloatProgress(value=0.0, max=1436.0), HTML(value='')))"
      ]
     },
     "metadata": {},
     "output_type": "display_data"
    },
    {
     "name": "stdout",
     "output_type": "stream",
     "text": [
      "\n"
     ]
    },
    {
     "data": {
      "application/vnd.jupyter.widget-view+json": {
       "model_id": "83c7ca70637f454d816b460c3c779cc6",
       "version_major": 2,
       "version_minor": 0
      },
      "text/plain": [
       "HBox(children=(FloatProgress(value=0.0, max=4298.0), HTML(value='')))"
      ]
     },
     "metadata": {},
     "output_type": "display_data"
    },
    {
     "name": "stdout",
     "output_type": "stream",
     "text": [
      "\n"
     ]
    },
    {
     "data": {
      "application/vnd.jupyter.widget-view+json": {
       "model_id": "def344fd252b4ee6a5749bef97b3cf83",
       "version_major": 2,
       "version_minor": 0
      },
      "text/plain": [
       "HBox(children=(FloatProgress(value=0.0, max=4298.0), HTML(value='')))"
      ]
     },
     "metadata": {},
     "output_type": "display_data"
    },
    {
     "name": "stdout",
     "output_type": "stream",
     "text": [
      "\n"
     ]
    },
    {
     "data": {
      "application/vnd.jupyter.widget-view+json": {
       "model_id": "06f4234ed01b450bbcf308ed08147c57",
       "version_major": 2,
       "version_minor": 0
      },
      "text/plain": [
       "HBox(children=(FloatProgress(value=0.0, max=2628.0), HTML(value='')))"
      ]
     },
     "metadata": {},
     "output_type": "display_data"
    },
    {
     "name": "stdout",
     "output_type": "stream",
     "text": [
      "\n"
     ]
    },
    {
     "data": {
      "application/vnd.jupyter.widget-view+json": {
       "model_id": "8328e3c77e2f4c24b3aabdc0b73d7a3d",
       "version_major": 2,
       "version_minor": 0
      },
      "text/plain": [
       "HBox(children=(FloatProgress(value=0.0, max=2628.0), HTML(value='')))"
      ]
     },
     "metadata": {},
     "output_type": "display_data"
    },
    {
     "name": "stdout",
     "output_type": "stream",
     "text": [
      "\n"
     ]
    },
    {
     "data": {
      "application/vnd.jupyter.widget-view+json": {
       "model_id": "7a6c4f40e39a4df0a533c484355c2170",
       "version_major": 2,
       "version_minor": 0
      },
      "text/plain": [
       "HBox(children=(FloatProgress(value=0.0, max=4010.0), HTML(value='')))"
      ]
     },
     "metadata": {},
     "output_type": "display_data"
    },
    {
     "name": "stdout",
     "output_type": "stream",
     "text": [
      "\n"
     ]
    },
    {
     "data": {
      "application/vnd.jupyter.widget-view+json": {
       "model_id": "73b0198c6bc7407698ac9eb5eaa86344",
       "version_major": 2,
       "version_minor": 0
      },
      "text/plain": [
       "HBox(children=(FloatProgress(value=0.0, max=4010.0), HTML(value='')))"
      ]
     },
     "metadata": {},
     "output_type": "display_data"
    },
    {
     "name": "stdout",
     "output_type": "stream",
     "text": [
      "\n"
     ]
    },
    {
     "data": {
      "application/vnd.jupyter.widget-view+json": {
       "model_id": "0c77766606de4ebd8ea7a77125ed7181",
       "version_major": 2,
       "version_minor": 0
      },
      "text/plain": [
       "HBox(children=(FloatProgress(value=0.0, max=2438.0), HTML(value='')))"
      ]
     },
     "metadata": {},
     "output_type": "display_data"
    },
    {
     "name": "stdout",
     "output_type": "stream",
     "text": [
      "\n"
     ]
    },
    {
     "data": {
      "application/vnd.jupyter.widget-view+json": {
       "model_id": "3e3b1469f2c149f2bd47fe09e5149bcc",
       "version_major": 2,
       "version_minor": 0
      },
      "text/plain": [
       "HBox(children=(FloatProgress(value=0.0, max=2438.0), HTML(value='')))"
      ]
     },
     "metadata": {},
     "output_type": "display_data"
    },
    {
     "name": "stdout",
     "output_type": "stream",
     "text": [
      "\n"
     ]
    },
    {
     "data": {
      "application/vnd.jupyter.widget-view+json": {
       "model_id": "68810043cf294913b2ce88161b4f773b",
       "version_major": 2,
       "version_minor": 0
      },
      "text/plain": [
       "HBox(children=(FloatProgress(value=0.0, max=4002.0), HTML(value='')))"
      ]
     },
     "metadata": {},
     "output_type": "display_data"
    },
    {
     "name": "stdout",
     "output_type": "stream",
     "text": [
      "\n"
     ]
    },
    {
     "data": {
      "application/vnd.jupyter.widget-view+json": {
       "model_id": "d8c2b150e7824e37980c3f09b9e73057",
       "version_major": 2,
       "version_minor": 0
      },
      "text/plain": [
       "HBox(children=(FloatProgress(value=0.0, max=4002.0), HTML(value='')))"
      ]
     },
     "metadata": {},
     "output_type": "display_data"
    },
    {
     "name": "stdout",
     "output_type": "stream",
     "text": [
      "\n"
     ]
    },
    {
     "data": {
      "application/vnd.jupyter.widget-view+json": {
       "model_id": "3641276a06c044c9b15cac9214479d47",
       "version_major": 2,
       "version_minor": 0
      },
      "text/plain": [
       "HBox(children=(FloatProgress(value=0.0, max=2676.0), HTML(value='')))"
      ]
     },
     "metadata": {},
     "output_type": "display_data"
    },
    {
     "name": "stdout",
     "output_type": "stream",
     "text": [
      "\n"
     ]
    },
    {
     "data": {
      "application/vnd.jupyter.widget-view+json": {
       "model_id": "05ec6889dd1d4feba760ffe6929a86b4",
       "version_major": 2,
       "version_minor": 0
      },
      "text/plain": [
       "HBox(children=(FloatProgress(value=0.0, max=2676.0), HTML(value='')))"
      ]
     },
     "metadata": {},
     "output_type": "display_data"
    },
    {
     "name": "stdout",
     "output_type": "stream",
     "text": [
      "\n"
     ]
    },
    {
     "data": {
      "application/vnd.jupyter.widget-view+json": {
       "model_id": "506b297ab201481bab972340ce5a52c5",
       "version_major": 2,
       "version_minor": 0
      },
      "text/plain": [
       "HBox(children=(FloatProgress(value=0.0, max=3300.0), HTML(value='')))"
      ]
     },
     "metadata": {},
     "output_type": "display_data"
    },
    {
     "name": "stdout",
     "output_type": "stream",
     "text": [
      "\n"
     ]
    },
    {
     "data": {
      "application/vnd.jupyter.widget-view+json": {
       "model_id": "ab468d1df4db4f3d991a41160f2c67b2",
       "version_major": 2,
       "version_minor": 0
      },
      "text/plain": [
       "HBox(children=(FloatProgress(value=0.0, max=3300.0), HTML(value='')))"
      ]
     },
     "metadata": {},
     "output_type": "display_data"
    },
    {
     "name": "stdout",
     "output_type": "stream",
     "text": [
      "\n"
     ]
    },
    {
     "data": {
      "application/vnd.jupyter.widget-view+json": {
       "model_id": "d179c238b4fa40a69b2b4a3b8a081f30",
       "version_major": 2,
       "version_minor": 0
      },
      "text/plain": [
       "HBox(children=(FloatProgress(value=0.0, max=2614.0), HTML(value='')))"
      ]
     },
     "metadata": {},
     "output_type": "display_data"
    },
    {
     "name": "stdout",
     "output_type": "stream",
     "text": [
      "\n"
     ]
    },
    {
     "data": {
      "application/vnd.jupyter.widget-view+json": {
       "model_id": "83baad8e25e24137aa737a0926cda508",
       "version_major": 2,
       "version_minor": 0
      },
      "text/plain": [
       "HBox(children=(FloatProgress(value=0.0, max=2614.0), HTML(value='')))"
      ]
     },
     "metadata": {},
     "output_type": "display_data"
    },
    {
     "name": "stdout",
     "output_type": "stream",
     "text": [
      "\n"
     ]
    },
    {
     "data": {
      "application/vnd.jupyter.widget-view+json": {
       "model_id": "d9b3589237f54ad1a3fbfb89017b7d05",
       "version_major": 2,
       "version_minor": 0
      },
      "text/plain": [
       "HBox(children=(FloatProgress(value=0.0, max=2122.0), HTML(value='')))"
      ]
     },
     "metadata": {},
     "output_type": "display_data"
    },
    {
     "name": "stdout",
     "output_type": "stream",
     "text": [
      "\n"
     ]
    },
    {
     "data": {
      "application/vnd.jupyter.widget-view+json": {
       "model_id": "f1be7f09cf0f4231850254ed1a46a42d",
       "version_major": 2,
       "version_minor": 0
      },
      "text/plain": [
       "HBox(children=(FloatProgress(value=0.0, max=2122.0), HTML(value='')))"
      ]
     },
     "metadata": {},
     "output_type": "display_data"
    },
    {
     "name": "stdout",
     "output_type": "stream",
     "text": [
      "\n"
     ]
    },
    {
     "data": {
      "application/vnd.jupyter.widget-view+json": {
       "model_id": "6227ba3cf30f4e23ad1d6cccdf4d4a83",
       "version_major": 2,
       "version_minor": 0
      },
      "text/plain": [
       "HBox(children=(FloatProgress(value=0.0, max=2500.0), HTML(value='')))"
      ]
     },
     "metadata": {},
     "output_type": "display_data"
    },
    {
     "name": "stdout",
     "output_type": "stream",
     "text": [
      "\n"
     ]
    },
    {
     "data": {
      "application/vnd.jupyter.widget-view+json": {
       "model_id": "05a2ea50758147928924de1aa9c29abb",
       "version_major": 2,
       "version_minor": 0
      },
      "text/plain": [
       "HBox(children=(FloatProgress(value=0.0, max=2500.0), HTML(value='')))"
      ]
     },
     "metadata": {},
     "output_type": "display_data"
    },
    {
     "name": "stdout",
     "output_type": "stream",
     "text": [
      "\n"
     ]
    },
    {
     "data": {
      "application/vnd.jupyter.widget-view+json": {
       "model_id": "14a25cd1e20a405b9f634ca6aae2a84d",
       "version_major": 2,
       "version_minor": 0
      },
      "text/plain": [
       "HBox(children=(FloatProgress(value=0.0, max=2984.0), HTML(value='')))"
      ]
     },
     "metadata": {},
     "output_type": "display_data"
    },
    {
     "name": "stdout",
     "output_type": "stream",
     "text": [
      "\n"
     ]
    },
    {
     "data": {
      "application/vnd.jupyter.widget-view+json": {
       "model_id": "288ff7f651454b4cba573b2075c620bc",
       "version_major": 2,
       "version_minor": 0
      },
      "text/plain": [
       "HBox(children=(FloatProgress(value=0.0, max=2984.0), HTML(value='')))"
      ]
     },
     "metadata": {},
     "output_type": "display_data"
    },
    {
     "name": "stdout",
     "output_type": "stream",
     "text": [
      "\n"
     ]
    },
    {
     "data": {
      "application/vnd.jupyter.widget-view+json": {
       "model_id": "64ceeb9cd58749c482e0bb8d65ae32bb",
       "version_major": 2,
       "version_minor": 0
      },
      "text/plain": [
       "HBox(children=(FloatProgress(value=0.0, max=2562.0), HTML(value='')))"
      ]
     },
     "metadata": {},
     "output_type": "display_data"
    },
    {
     "name": "stdout",
     "output_type": "stream",
     "text": [
      "\n"
     ]
    },
    {
     "data": {
      "application/vnd.jupyter.widget-view+json": {
       "model_id": "23871f24a854428f9e594463643f9e8d",
       "version_major": 2,
       "version_minor": 0
      },
      "text/plain": [
       "HBox(children=(FloatProgress(value=0.0, max=2562.0), HTML(value='')))"
      ]
     },
     "metadata": {},
     "output_type": "display_data"
    },
    {
     "name": "stdout",
     "output_type": "stream",
     "text": [
      "\n"
     ]
    },
    {
     "data": {
      "application/vnd.jupyter.widget-view+json": {
       "model_id": "1ff4e1f7007b42e1b62ae05ee3d43034",
       "version_major": 2,
       "version_minor": 0
      },
      "text/plain": [
       "HBox(children=(FloatProgress(value=0.0, max=3272.0), HTML(value='')))"
      ]
     },
     "metadata": {},
     "output_type": "display_data"
    },
    {
     "name": "stdout",
     "output_type": "stream",
     "text": [
      "\n"
     ]
    },
    {
     "data": {
      "application/vnd.jupyter.widget-view+json": {
       "model_id": "d5bba9aada7148f19e04cc9472189d0a",
       "version_major": 2,
       "version_minor": 0
      },
      "text/plain": [
       "HBox(children=(FloatProgress(value=0.0, max=3272.0), HTML(value='')))"
      ]
     },
     "metadata": {},
     "output_type": "display_data"
    },
    {
     "name": "stdout",
     "output_type": "stream",
     "text": [
      "\n"
     ]
    },
    {
     "data": {
      "application/vnd.jupyter.widget-view+json": {
       "model_id": "9b211c8cef634c14a5bd625e3c97e4d7",
       "version_major": 2,
       "version_minor": 0
      },
      "text/plain": [
       "HBox(children=(FloatProgress(value=0.0, max=3254.0), HTML(value='')))"
      ]
     },
     "metadata": {},
     "output_type": "display_data"
    },
    {
     "name": "stdout",
     "output_type": "stream",
     "text": [
      "\n"
     ]
    },
    {
     "data": {
      "application/vnd.jupyter.widget-view+json": {
       "model_id": "3f04b4ead6324aaf93cbcbf116d86b9b",
       "version_major": 2,
       "version_minor": 0
      },
      "text/plain": [
       "HBox(children=(FloatProgress(value=0.0, max=3254.0), HTML(value='')))"
      ]
     },
     "metadata": {},
     "output_type": "display_data"
    },
    {
     "name": "stdout",
     "output_type": "stream",
     "text": [
      "\n"
     ]
    },
    {
     "data": {
      "application/vnd.jupyter.widget-view+json": {
       "model_id": "a9dcca392fdb428083267509f5e1804e",
       "version_major": 2,
       "version_minor": 0
      },
      "text/plain": [
       "HBox(children=(FloatProgress(value=0.0, max=3368.0), HTML(value='')))"
      ]
     },
     "metadata": {},
     "output_type": "display_data"
    },
    {
     "name": "stdout",
     "output_type": "stream",
     "text": [
      "\n"
     ]
    },
    {
     "data": {
      "application/vnd.jupyter.widget-view+json": {
       "model_id": "ccb979a20bed428587c62418384ec9c6",
       "version_major": 2,
       "version_minor": 0
      },
      "text/plain": [
       "HBox(children=(FloatProgress(value=0.0, max=3368.0), HTML(value='')))"
      ]
     },
     "metadata": {},
     "output_type": "display_data"
    },
    {
     "name": "stdout",
     "output_type": "stream",
     "text": [
      "\n"
     ]
    },
    {
     "data": {
      "application/vnd.jupyter.widget-view+json": {
       "model_id": "7779060039534405880a0ccabb1a22a3",
       "version_major": 2,
       "version_minor": 0
      },
      "text/plain": [
       "HBox(children=(FloatProgress(value=0.0, max=3544.0), HTML(value='')))"
      ]
     },
     "metadata": {},
     "output_type": "display_data"
    },
    {
     "name": "stdout",
     "output_type": "stream",
     "text": [
      "\n"
     ]
    },
    {
     "data": {
      "application/vnd.jupyter.widget-view+json": {
       "model_id": "3abd17d9666e4038822a6bad6fa4bcb9",
       "version_major": 2,
       "version_minor": 0
      },
      "text/plain": [
       "HBox(children=(FloatProgress(value=0.0, max=3544.0), HTML(value='')))"
      ]
     },
     "metadata": {},
     "output_type": "display_data"
    },
    {
     "name": "stdout",
     "output_type": "stream",
     "text": [
      "\n"
     ]
    },
    {
     "data": {
      "application/vnd.jupyter.widget-view+json": {
       "model_id": "937a7aff16d94805a5e533bf6f0c8e45",
       "version_major": 2,
       "version_minor": 0
      },
      "text/plain": [
       "HBox(children=(FloatProgress(value=0.0, max=2148.0), HTML(value='')))"
      ]
     },
     "metadata": {},
     "output_type": "display_data"
    },
    {
     "name": "stdout",
     "output_type": "stream",
     "text": [
      "\n"
     ]
    },
    {
     "data": {
      "application/vnd.jupyter.widget-view+json": {
       "model_id": "fb3a9d2d8191439fa89b809c46027662",
       "version_major": 2,
       "version_minor": 0
      },
      "text/plain": [
       "HBox(children=(FloatProgress(value=0.0, max=2148.0), HTML(value='')))"
      ]
     },
     "metadata": {},
     "output_type": "display_data"
    },
    {
     "name": "stdout",
     "output_type": "stream",
     "text": [
      "\n"
     ]
    },
    {
     "data": {
      "application/vnd.jupyter.widget-view+json": {
       "model_id": "8090525d7fb04ba6b7627afdc1ecd7cd",
       "version_major": 2,
       "version_minor": 0
      },
      "text/plain": [
       "HBox(children=(FloatProgress(value=0.0, max=3240.0), HTML(value='')))"
      ]
     },
     "metadata": {},
     "output_type": "display_data"
    },
    {
     "name": "stdout",
     "output_type": "stream",
     "text": [
      "\n"
     ]
    },
    {
     "data": {
      "application/vnd.jupyter.widget-view+json": {
       "model_id": "e21a607e09fd489e931a653d22c3c971",
       "version_major": 2,
       "version_minor": 0
      },
      "text/plain": [
       "HBox(children=(FloatProgress(value=0.0, max=3240.0), HTML(value='')))"
      ]
     },
     "metadata": {},
     "output_type": "display_data"
    },
    {
     "name": "stdout",
     "output_type": "stream",
     "text": [
      "\n"
     ]
    },
    {
     "data": {
      "application/vnd.jupyter.widget-view+json": {
       "model_id": "2aa3e000fcad4ff0b5ab1f51cbbd3b32",
       "version_major": 2,
       "version_minor": 0
      },
      "text/plain": [
       "HBox(children=(FloatProgress(value=0.0, max=2138.0), HTML(value='')))"
      ]
     },
     "metadata": {},
     "output_type": "display_data"
    },
    {
     "name": "stdout",
     "output_type": "stream",
     "text": [
      "\n"
     ]
    },
    {
     "data": {
      "application/vnd.jupyter.widget-view+json": {
       "model_id": "a149c2b66f6a4220bc8a1796f2b10232",
       "version_major": 2,
       "version_minor": 0
      },
      "text/plain": [
       "HBox(children=(FloatProgress(value=0.0, max=2138.0), HTML(value='')))"
      ]
     },
     "metadata": {},
     "output_type": "display_data"
    },
    {
     "name": "stdout",
     "output_type": "stream",
     "text": [
      "\n"
     ]
    },
    {
     "data": {
      "application/vnd.jupyter.widget-view+json": {
       "model_id": "f954993869f643e9bfb71c0174ea9a80",
       "version_major": 2,
       "version_minor": 0
      },
      "text/plain": [
       "HBox(children=(FloatProgress(value=0.0, max=1654.0), HTML(value='')))"
      ]
     },
     "metadata": {},
     "output_type": "display_data"
    },
    {
     "name": "stdout",
     "output_type": "stream",
     "text": [
      "\n"
     ]
    },
    {
     "data": {
      "application/vnd.jupyter.widget-view+json": {
       "model_id": "a2cd85bd81184998a151cdbd95809f73",
       "version_major": 2,
       "version_minor": 0
      },
      "text/plain": [
       "HBox(children=(FloatProgress(value=0.0, max=1654.0), HTML(value='')))"
      ]
     },
     "metadata": {},
     "output_type": "display_data"
    },
    {
     "name": "stdout",
     "output_type": "stream",
     "text": [
      "\n"
     ]
    },
    {
     "data": {
      "application/vnd.jupyter.widget-view+json": {
       "model_id": "6b5a196d06354e19854636e7d97fe534",
       "version_major": 2,
       "version_minor": 0
      },
      "text/plain": [
       "HBox(children=(FloatProgress(value=0.0, max=2196.0), HTML(value='')))"
      ]
     },
     "metadata": {},
     "output_type": "display_data"
    },
    {
     "name": "stdout",
     "output_type": "stream",
     "text": [
      "\n"
     ]
    },
    {
     "data": {
      "application/vnd.jupyter.widget-view+json": {
       "model_id": "ba868b5044424c15bb2c3527e6e7d1ac",
       "version_major": 2,
       "version_minor": 0
      },
      "text/plain": [
       "HBox(children=(FloatProgress(value=0.0, max=2196.0), HTML(value='')))"
      ]
     },
     "metadata": {},
     "output_type": "display_data"
    },
    {
     "name": "stdout",
     "output_type": "stream",
     "text": [
      "\n"
     ]
    },
    {
     "data": {
      "application/vnd.jupyter.widget-view+json": {
       "model_id": "8188d1c09ef24eecb6ec88bcdaca4dc2",
       "version_major": 2,
       "version_minor": 0
      },
      "text/plain": [
       "HBox(children=(FloatProgress(value=0.0, max=3364.0), HTML(value='')))"
      ]
     },
     "metadata": {},
     "output_type": "display_data"
    },
    {
     "name": "stdout",
     "output_type": "stream",
     "text": [
      "\n"
     ]
    },
    {
     "data": {
      "application/vnd.jupyter.widget-view+json": {
       "model_id": "9fc5ecac29414ef49bf2b027a0cdd899",
       "version_major": 2,
       "version_minor": 0
      },
      "text/plain": [
       "HBox(children=(FloatProgress(value=0.0, max=3364.0), HTML(value='')))"
      ]
     },
     "metadata": {},
     "output_type": "display_data"
    },
    {
     "name": "stdout",
     "output_type": "stream",
     "text": [
      "\n"
     ]
    },
    {
     "data": {
      "application/vnd.jupyter.widget-view+json": {
       "model_id": "da4c15e8f8e443dd99fade19d3ab20ba",
       "version_major": 2,
       "version_minor": 0
      },
      "text/plain": [
       "HBox(children=(FloatProgress(value=0.0, max=3368.0), HTML(value='')))"
      ]
     },
     "metadata": {},
     "output_type": "display_data"
    },
    {
     "name": "stdout",
     "output_type": "stream",
     "text": [
      "\n"
     ]
    },
    {
     "data": {
      "application/vnd.jupyter.widget-view+json": {
       "model_id": "df71e3e374da4459ab5b510fc501f251",
       "version_major": 2,
       "version_minor": 0
      },
      "text/plain": [
       "HBox(children=(FloatProgress(value=0.0, max=3368.0), HTML(value='')))"
      ]
     },
     "metadata": {},
     "output_type": "display_data"
    },
    {
     "name": "stdout",
     "output_type": "stream",
     "text": [
      "\n"
     ]
    },
    {
     "data": {
      "application/vnd.jupyter.widget-view+json": {
       "model_id": "bb324d272b504a9fb1466361c45021ca",
       "version_major": 2,
       "version_minor": 0
      },
      "text/plain": [
       "HBox(children=(FloatProgress(value=0.0, max=4456.0), HTML(value='')))"
      ]
     },
     "metadata": {},
     "output_type": "display_data"
    },
    {
     "name": "stdout",
     "output_type": "stream",
     "text": [
      "\n"
     ]
    },
    {
     "data": {
      "application/vnd.jupyter.widget-view+json": {
       "model_id": "e54f62c7f8104e8b82a23f8f5de16b10",
       "version_major": 2,
       "version_minor": 0
      },
      "text/plain": [
       "HBox(children=(FloatProgress(value=0.0, max=4456.0), HTML(value='')))"
      ]
     },
     "metadata": {},
     "output_type": "display_data"
    },
    {
     "name": "stdout",
     "output_type": "stream",
     "text": [
      "\n"
     ]
    },
    {
     "data": {
      "application/vnd.jupyter.widget-view+json": {
       "model_id": "73a197f072834e10946e692c3f73b502",
       "version_major": 2,
       "version_minor": 0
      },
      "text/plain": [
       "HBox(children=(FloatProgress(value=0.0, max=2884.0), HTML(value='')))"
      ]
     },
     "metadata": {},
     "output_type": "display_data"
    },
    {
     "name": "stdout",
     "output_type": "stream",
     "text": [
      "\n"
     ]
    },
    {
     "data": {
      "application/vnd.jupyter.widget-view+json": {
       "model_id": "583eaf81ef174dd4a9a2bba585aba1d0",
       "version_major": 2,
       "version_minor": 0
      },
      "text/plain": [
       "HBox(children=(FloatProgress(value=0.0, max=2884.0), HTML(value='')))"
      ]
     },
     "metadata": {},
     "output_type": "display_data"
    },
    {
     "name": "stdout",
     "output_type": "stream",
     "text": [
      "\n"
     ]
    },
    {
     "data": {
      "application/vnd.jupyter.widget-view+json": {
       "model_id": "ea5476901e8f458fb415fb3dac0a1cfa",
       "version_major": 2,
       "version_minor": 0
      },
      "text/plain": [
       "HBox(children=(FloatProgress(value=0.0, max=2880.0), HTML(value='')))"
      ]
     },
     "metadata": {},
     "output_type": "display_data"
    },
    {
     "name": "stdout",
     "output_type": "stream",
     "text": [
      "\n"
     ]
    },
    {
     "data": {
      "application/vnd.jupyter.widget-view+json": {
       "model_id": "40d155e34c474ba4a3ade471a5b2ad17",
       "version_major": 2,
       "version_minor": 0
      },
      "text/plain": [
       "HBox(children=(FloatProgress(value=0.0, max=2880.0), HTML(value='')))"
      ]
     },
     "metadata": {},
     "output_type": "display_data"
    },
    {
     "name": "stdout",
     "output_type": "stream",
     "text": [
      "\n"
     ]
    },
    {
     "data": {
      "application/vnd.jupyter.widget-view+json": {
       "model_id": "55136f5817634b25904dc5a363145840",
       "version_major": 2,
       "version_minor": 0
      },
      "text/plain": [
       "HBox(children=(FloatProgress(value=0.0, max=3726.0), HTML(value='')))"
      ]
     },
     "metadata": {},
     "output_type": "display_data"
    },
    {
     "name": "stdout",
     "output_type": "stream",
     "text": [
      "\n"
     ]
    },
    {
     "data": {
      "application/vnd.jupyter.widget-view+json": {
       "model_id": "de7e35d62c3449179dcafe9b38b6afd6",
       "version_major": 2,
       "version_minor": 0
      },
      "text/plain": [
       "HBox(children=(FloatProgress(value=0.0, max=3726.0), HTML(value='')))"
      ]
     },
     "metadata": {},
     "output_type": "display_data"
    },
    {
     "name": "stdout",
     "output_type": "stream",
     "text": [
      "\n"
     ]
    },
    {
     "data": {
      "application/vnd.jupyter.widget-view+json": {
       "model_id": "149562c7917a4b6c86d9d94068840441",
       "version_major": 2,
       "version_minor": 0
      },
      "text/plain": [
       "HBox(children=(FloatProgress(value=0.0, max=3074.0), HTML(value='')))"
      ]
     },
     "metadata": {},
     "output_type": "display_data"
    },
    {
     "name": "stdout",
     "output_type": "stream",
     "text": [
      "\n"
     ]
    },
    {
     "data": {
      "application/vnd.jupyter.widget-view+json": {
       "model_id": "cdc432735cb44273a2dafd391f2e630f",
       "version_major": 2,
       "version_minor": 0
      },
      "text/plain": [
       "HBox(children=(FloatProgress(value=0.0, max=3074.0), HTML(value='')))"
      ]
     },
     "metadata": {},
     "output_type": "display_data"
    },
    {
     "name": "stdout",
     "output_type": "stream",
     "text": [
      "\n"
     ]
    },
    {
     "data": {
      "application/vnd.jupyter.widget-view+json": {
       "model_id": "37b2e706e89946c794aaf7f13199438c",
       "version_major": 2,
       "version_minor": 0
      },
      "text/plain": [
       "HBox(children=(FloatProgress(value=0.0, max=2742.0), HTML(value='')))"
      ]
     },
     "metadata": {},
     "output_type": "display_data"
    },
    {
     "name": "stdout",
     "output_type": "stream",
     "text": [
      "\n"
     ]
    },
    {
     "data": {
      "application/vnd.jupyter.widget-view+json": {
       "model_id": "de32f168e1ff45809fb6fc63693f4c35",
       "version_major": 2,
       "version_minor": 0
      },
      "text/plain": [
       "HBox(children=(FloatProgress(value=0.0, max=2742.0), HTML(value='')))"
      ]
     },
     "metadata": {},
     "output_type": "display_data"
    },
    {
     "name": "stdout",
     "output_type": "stream",
     "text": [
      "\n"
     ]
    },
    {
     "data": {
      "application/vnd.jupyter.widget-view+json": {
       "model_id": "a9bc2a03f4b94177aaf48204707820b2",
       "version_major": 2,
       "version_minor": 0
      },
      "text/plain": [
       "HBox(children=(FloatProgress(value=0.0, max=3230.0), HTML(value='')))"
      ]
     },
     "metadata": {},
     "output_type": "display_data"
    },
    {
     "name": "stdout",
     "output_type": "stream",
     "text": [
      "\n"
     ]
    },
    {
     "data": {
      "application/vnd.jupyter.widget-view+json": {
       "model_id": "5aa0d60302274771949626e921f09243",
       "version_major": 2,
       "version_minor": 0
      },
      "text/plain": [
       "HBox(children=(FloatProgress(value=0.0, max=3230.0), HTML(value='')))"
      ]
     },
     "metadata": {},
     "output_type": "display_data"
    },
    {
     "name": "stdout",
     "output_type": "stream",
     "text": [
      "\n"
     ]
    },
    {
     "data": {
      "application/vnd.jupyter.widget-view+json": {
       "model_id": "b8f22e3aa8fe4174880ea09c34371bcb",
       "version_major": 2,
       "version_minor": 0
      },
      "text/plain": [
       "HBox(children=(FloatProgress(value=0.0, max=2348.0), HTML(value='')))"
      ]
     },
     "metadata": {},
     "output_type": "display_data"
    },
    {
     "name": "stdout",
     "output_type": "stream",
     "text": [
      "\n"
     ]
    },
    {
     "data": {
      "application/vnd.jupyter.widget-view+json": {
       "model_id": "39f2c169166d4df08c5262c70ca961f0",
       "version_major": 2,
       "version_minor": 0
      },
      "text/plain": [
       "HBox(children=(FloatProgress(value=0.0, max=2348.0), HTML(value='')))"
      ]
     },
     "metadata": {},
     "output_type": "display_data"
    },
    {
     "name": "stdout",
     "output_type": "stream",
     "text": [
      "\n"
     ]
    },
    {
     "data": {
      "application/vnd.jupyter.widget-view+json": {
       "model_id": "8cb7b0979853445fac5e50bac295fe5f",
       "version_major": 2,
       "version_minor": 0
      },
      "text/plain": [
       "HBox(children=(FloatProgress(value=0.0, max=2544.0), HTML(value='')))"
      ]
     },
     "metadata": {},
     "output_type": "display_data"
    },
    {
     "name": "stdout",
     "output_type": "stream",
     "text": [
      "\n"
     ]
    },
    {
     "data": {
      "application/vnd.jupyter.widget-view+json": {
       "model_id": "3e7d1e0aad984153983da35d80b80df6",
       "version_major": 2,
       "version_minor": 0
      },
      "text/plain": [
       "HBox(children=(FloatProgress(value=0.0, max=2544.0), HTML(value='')))"
      ]
     },
     "metadata": {},
     "output_type": "display_data"
    },
    {
     "name": "stdout",
     "output_type": "stream",
     "text": [
      "\n"
     ]
    },
    {
     "data": {
      "application/vnd.jupyter.widget-view+json": {
       "model_id": "f0aa48a6b0a74f1181739505ff153b79",
       "version_major": 2,
       "version_minor": 0
      },
      "text/plain": [
       "HBox(children=(FloatProgress(value=0.0, max=2602.0), HTML(value='')))"
      ]
     },
     "metadata": {},
     "output_type": "display_data"
    },
    {
     "name": "stdout",
     "output_type": "stream",
     "text": [
      "\n"
     ]
    },
    {
     "data": {
      "application/vnd.jupyter.widget-view+json": {
       "model_id": "2c09a397aa314b1d9501ab1d9d183eb2",
       "version_major": 2,
       "version_minor": 0
      },
      "text/plain": [
       "HBox(children=(FloatProgress(value=0.0, max=2602.0), HTML(value='')))"
      ]
     },
     "metadata": {},
     "output_type": "display_data"
    },
    {
     "name": "stdout",
     "output_type": "stream",
     "text": [
      "\n"
     ]
    },
    {
     "data": {
      "application/vnd.jupyter.widget-view+json": {
       "model_id": "95677b2e2d2d4d6db29b7ddd6b7e3c66",
       "version_major": 2,
       "version_minor": 0
      },
      "text/plain": [
       "HBox(children=(FloatProgress(value=0.0, max=2078.0), HTML(value='')))"
      ]
     },
     "metadata": {},
     "output_type": "display_data"
    },
    {
     "name": "stdout",
     "output_type": "stream",
     "text": [
      "\n"
     ]
    },
    {
     "data": {
      "application/vnd.jupyter.widget-view+json": {
       "model_id": "e2605165ab4a4ca199b70874d986555b",
       "version_major": 2,
       "version_minor": 0
      },
      "text/plain": [
       "HBox(children=(FloatProgress(value=0.0, max=2078.0), HTML(value='')))"
      ]
     },
     "metadata": {},
     "output_type": "display_data"
    },
    {
     "name": "stdout",
     "output_type": "stream",
     "text": [
      "\n"
     ]
    },
    {
     "data": {
      "application/vnd.jupyter.widget-view+json": {
       "model_id": "3ad7e1e9216b46318bbf182a508e8039",
       "version_major": 2,
       "version_minor": 0
      },
      "text/plain": [
       "HBox(children=(FloatProgress(value=0.0, max=3128.0), HTML(value='')))"
      ]
     },
     "metadata": {},
     "output_type": "display_data"
    },
    {
     "name": "stdout",
     "output_type": "stream",
     "text": [
      "\n"
     ]
    },
    {
     "data": {
      "application/vnd.jupyter.widget-view+json": {
       "model_id": "dea296ee8a9e48cc9e38e7385bb1089b",
       "version_major": 2,
       "version_minor": 0
      },
      "text/plain": [
       "HBox(children=(FloatProgress(value=0.0, max=3128.0), HTML(value='')))"
      ]
     },
     "metadata": {},
     "output_type": "display_data"
    },
    {
     "name": "stdout",
     "output_type": "stream",
     "text": [
      "\n"
     ]
    },
    {
     "data": {
      "application/vnd.jupyter.widget-view+json": {
       "model_id": "86e49be6576f40c8a3effa239071f8f6",
       "version_major": 2,
       "version_minor": 0
      },
      "text/plain": [
       "HBox(children=(FloatProgress(value=0.0, max=3414.0), HTML(value='')))"
      ]
     },
     "metadata": {},
     "output_type": "display_data"
    },
    {
     "name": "stdout",
     "output_type": "stream",
     "text": [
      "\n"
     ]
    },
    {
     "data": {
      "application/vnd.jupyter.widget-view+json": {
       "model_id": "a5ae615780404279890989a0b105e13b",
       "version_major": 2,
       "version_minor": 0
      },
      "text/plain": [
       "HBox(children=(FloatProgress(value=0.0, max=3414.0), HTML(value='')))"
      ]
     },
     "metadata": {},
     "output_type": "display_data"
    },
    {
     "name": "stdout",
     "output_type": "stream",
     "text": [
      "\n"
     ]
    },
    {
     "data": {
      "application/vnd.jupyter.widget-view+json": {
       "model_id": "59b96355cf664789bbba759c3e0317a8",
       "version_major": 2,
       "version_minor": 0
      },
      "text/plain": [
       "HBox(children=(FloatProgress(value=0.0, max=2944.0), HTML(value='')))"
      ]
     },
     "metadata": {},
     "output_type": "display_data"
    },
    {
     "name": "stdout",
     "output_type": "stream",
     "text": [
      "\n"
     ]
    },
    {
     "data": {
      "application/vnd.jupyter.widget-view+json": {
       "model_id": "d1562f89fa54424aaae9e4f84577a7de",
       "version_major": 2,
       "version_minor": 0
      },
      "text/plain": [
       "HBox(children=(FloatProgress(value=0.0, max=2944.0), HTML(value='')))"
      ]
     },
     "metadata": {},
     "output_type": "display_data"
    },
    {
     "name": "stdout",
     "output_type": "stream",
     "text": [
      "\n"
     ]
    },
    {
     "data": {
      "application/vnd.jupyter.widget-view+json": {
       "model_id": "635ded87b66e45d589caa2813f8d8488",
       "version_major": 2,
       "version_minor": 0
      },
      "text/plain": [
       "HBox(children=(FloatProgress(value=0.0, max=1786.0), HTML(value='')))"
      ]
     },
     "metadata": {},
     "output_type": "display_data"
    },
    {
     "name": "stdout",
     "output_type": "stream",
     "text": [
      "\n"
     ]
    },
    {
     "data": {
      "application/vnd.jupyter.widget-view+json": {
       "model_id": "80da345a6e1d4dfa87f7d5beb322e530",
       "version_major": 2,
       "version_minor": 0
      },
      "text/plain": [
       "HBox(children=(FloatProgress(value=0.0, max=1786.0), HTML(value='')))"
      ]
     },
     "metadata": {},
     "output_type": "display_data"
    },
    {
     "name": "stdout",
     "output_type": "stream",
     "text": [
      "\n"
     ]
    },
    {
     "data": {
      "application/vnd.jupyter.widget-view+json": {
       "model_id": "9b0b9b1578584305b2992d6aac663583",
       "version_major": 2,
       "version_minor": 0
      },
      "text/plain": [
       "HBox(children=(FloatProgress(value=0.0, max=3396.0), HTML(value='')))"
      ]
     },
     "metadata": {},
     "output_type": "display_data"
    },
    {
     "name": "stdout",
     "output_type": "stream",
     "text": [
      "\n"
     ]
    },
    {
     "data": {
      "application/vnd.jupyter.widget-view+json": {
       "model_id": "3e7256b2b3b648039a37ea031f9df171",
       "version_major": 2,
       "version_minor": 0
      },
      "text/plain": [
       "HBox(children=(FloatProgress(value=0.0, max=3396.0), HTML(value='')))"
      ]
     },
     "metadata": {},
     "output_type": "display_data"
    },
    {
     "name": "stdout",
     "output_type": "stream",
     "text": [
      "\n"
     ]
    },
    {
     "data": {
      "application/vnd.jupyter.widget-view+json": {
       "model_id": "093e8c77141941b388def2366f6591cc",
       "version_major": 2,
       "version_minor": 0
      },
      "text/plain": [
       "HBox(children=(FloatProgress(value=0.0, max=2278.0), HTML(value='')))"
      ]
     },
     "metadata": {},
     "output_type": "display_data"
    },
    {
     "name": "stdout",
     "output_type": "stream",
     "text": [
      "\n"
     ]
    },
    {
     "data": {
      "application/vnd.jupyter.widget-view+json": {
       "model_id": "07421baa0e3e454ebb9c0b193803b476",
       "version_major": 2,
       "version_minor": 0
      },
      "text/plain": [
       "HBox(children=(FloatProgress(value=0.0, max=2278.0), HTML(value='')))"
      ]
     },
     "metadata": {},
     "output_type": "display_data"
    },
    {
     "name": "stdout",
     "output_type": "stream",
     "text": [
      "\n"
     ]
    },
    {
     "data": {
      "application/vnd.jupyter.widget-view+json": {
       "model_id": "4ce253f1ae6c4e05950e12406aaf05a8",
       "version_major": 2,
       "version_minor": 0
      },
      "text/plain": [
       "HBox(children=(FloatProgress(value=0.0, max=2436.0), HTML(value='')))"
      ]
     },
     "metadata": {},
     "output_type": "display_data"
    },
    {
     "name": "stdout",
     "output_type": "stream",
     "text": [
      "\n"
     ]
    },
    {
     "data": {
      "application/vnd.jupyter.widget-view+json": {
       "model_id": "a752d614a6074fea9071da9da5691f8b",
       "version_major": 2,
       "version_minor": 0
      },
      "text/plain": [
       "HBox(children=(FloatProgress(value=0.0, max=2436.0), HTML(value='')))"
      ]
     },
     "metadata": {},
     "output_type": "display_data"
    },
    {
     "name": "stdout",
     "output_type": "stream",
     "text": [
      "\n"
     ]
    },
    {
     "data": {
      "application/vnd.jupyter.widget-view+json": {
       "model_id": "6cc286d23a7e46a8a9e2d339f4fb99fb",
       "version_major": 2,
       "version_minor": 0
      },
      "text/plain": [
       "HBox(children=(FloatProgress(value=0.0, max=4176.0), HTML(value='')))"
      ]
     },
     "metadata": {},
     "output_type": "display_data"
    },
    {
     "name": "stdout",
     "output_type": "stream",
     "text": [
      "\n"
     ]
    },
    {
     "data": {
      "application/vnd.jupyter.widget-view+json": {
       "model_id": "ba3ece0dc26348b385ba241ebc1b5c4a",
       "version_major": 2,
       "version_minor": 0
      },
      "text/plain": [
       "HBox(children=(FloatProgress(value=0.0, max=4176.0), HTML(value='')))"
      ]
     },
     "metadata": {},
     "output_type": "display_data"
    },
    {
     "name": "stdout",
     "output_type": "stream",
     "text": [
      "\n"
     ]
    },
    {
     "data": {
      "application/vnd.jupyter.widget-view+json": {
       "model_id": "859085a53d7c43df85c149db38b4b215",
       "version_major": 2,
       "version_minor": 0
      },
      "text/plain": [
       "HBox(children=(FloatProgress(value=0.0, max=2774.0), HTML(value='')))"
      ]
     },
     "metadata": {},
     "output_type": "display_data"
    },
    {
     "name": "stdout",
     "output_type": "stream",
     "text": [
      "\n"
     ]
    },
    {
     "data": {
      "application/vnd.jupyter.widget-view+json": {
       "model_id": "c3b9fcdbc6bc4328a01c37c6bb27728a",
       "version_major": 2,
       "version_minor": 0
      },
      "text/plain": [
       "HBox(children=(FloatProgress(value=0.0, max=2774.0), HTML(value='')))"
      ]
     },
     "metadata": {},
     "output_type": "display_data"
    },
    {
     "name": "stdout",
     "output_type": "stream",
     "text": [
      "\n"
     ]
    },
    {
     "data": {
      "application/vnd.jupyter.widget-view+json": {
       "model_id": "f5f39ccb357540639d93b0e5bf4ec700",
       "version_major": 2,
       "version_minor": 0
      },
      "text/plain": [
       "HBox(children=(FloatProgress(value=0.0, max=2370.0), HTML(value='')))"
      ]
     },
     "metadata": {},
     "output_type": "display_data"
    },
    {
     "name": "stdout",
     "output_type": "stream",
     "text": [
      "\n"
     ]
    },
    {
     "data": {
      "application/vnd.jupyter.widget-view+json": {
       "model_id": "79a49dc0ea9848a8bd84cc69d536aa10",
       "version_major": 2,
       "version_minor": 0
      },
      "text/plain": [
       "HBox(children=(FloatProgress(value=0.0, max=2370.0), HTML(value='')))"
      ]
     },
     "metadata": {},
     "output_type": "display_data"
    },
    {
     "name": "stdout",
     "output_type": "stream",
     "text": [
      "\n"
     ]
    },
    {
     "data": {
      "application/vnd.jupyter.widget-view+json": {
       "model_id": "0b63ecde46ee41a5a75eaae7c5208444",
       "version_major": 2,
       "version_minor": 0
      },
      "text/plain": [
       "HBox(children=(FloatProgress(value=0.0, max=1722.0), HTML(value='')))"
      ]
     },
     "metadata": {},
     "output_type": "display_data"
    },
    {
     "name": "stdout",
     "output_type": "stream",
     "text": [
      "\n"
     ]
    },
    {
     "data": {
      "application/vnd.jupyter.widget-view+json": {
       "model_id": "fd9218ab0ddd480ea0de0470eea81dad",
       "version_major": 2,
       "version_minor": 0
      },
      "text/plain": [
       "HBox(children=(FloatProgress(value=0.0, max=1722.0), HTML(value='')))"
      ]
     },
     "metadata": {},
     "output_type": "display_data"
    },
    {
     "name": "stdout",
     "output_type": "stream",
     "text": [
      "\n"
     ]
    },
    {
     "data": {
      "application/vnd.jupyter.widget-view+json": {
       "model_id": "d64878224dbf4e4bb5dc7c7a357c0304",
       "version_major": 2,
       "version_minor": 0
      },
      "text/plain": [
       "HBox(children=(FloatProgress(value=0.0, max=2512.0), HTML(value='')))"
      ]
     },
     "metadata": {},
     "output_type": "display_data"
    },
    {
     "name": "stdout",
     "output_type": "stream",
     "text": [
      "\n"
     ]
    },
    {
     "data": {
      "application/vnd.jupyter.widget-view+json": {
       "model_id": "9aeb3e2fb6424a029e185efc8263204e",
       "version_major": 2,
       "version_minor": 0
      },
      "text/plain": [
       "HBox(children=(FloatProgress(value=0.0, max=2512.0), HTML(value='')))"
      ]
     },
     "metadata": {},
     "output_type": "display_data"
    },
    {
     "name": "stdout",
     "output_type": "stream",
     "text": [
      "\n"
     ]
    },
    {
     "data": {
      "application/vnd.jupyter.widget-view+json": {
       "model_id": "fd0fd19f18f84a7d91b15e7eceee66ed",
       "version_major": 2,
       "version_minor": 0
      },
      "text/plain": [
       "HBox(children=(FloatProgress(value=0.0, max=2164.0), HTML(value='')))"
      ]
     },
     "metadata": {},
     "output_type": "display_data"
    },
    {
     "name": "stdout",
     "output_type": "stream",
     "text": [
      "\n"
     ]
    },
    {
     "data": {
      "application/vnd.jupyter.widget-view+json": {
       "model_id": "ead0983abb514d61b1fcbc2f8d3a96e1",
       "version_major": 2,
       "version_minor": 0
      },
      "text/plain": [
       "HBox(children=(FloatProgress(value=0.0, max=2164.0), HTML(value='')))"
      ]
     },
     "metadata": {},
     "output_type": "display_data"
    },
    {
     "name": "stdout",
     "output_type": "stream",
     "text": [
      "\n"
     ]
    },
    {
     "data": {
      "application/vnd.jupyter.widget-view+json": {
       "model_id": "ba8347f041d349dc90e70099f2646aaa",
       "version_major": 2,
       "version_minor": 0
      },
      "text/plain": [
       "HBox(children=(FloatProgress(value=0.0, max=3020.0), HTML(value='')))"
      ]
     },
     "metadata": {},
     "output_type": "display_data"
    },
    {
     "name": "stdout",
     "output_type": "stream",
     "text": [
      "\n"
     ]
    },
    {
     "data": {
      "application/vnd.jupyter.widget-view+json": {
       "model_id": "e4f27f5cdc264391a61ec41be906dabc",
       "version_major": 2,
       "version_minor": 0
      },
      "text/plain": [
       "HBox(children=(FloatProgress(value=0.0, max=3020.0), HTML(value='')))"
      ]
     },
     "metadata": {},
     "output_type": "display_data"
    },
    {
     "name": "stdout",
     "output_type": "stream",
     "text": [
      "\n",
      "Average Track Efficiency is 0.99469633450831 +/- 0.007420464322992126\n",
      "Average Fake Fraction is 0.004020799681516493 +/- 0.005934675518634379\n"
     ]
    }
   ],
   "source": [
    "N_events = 100\n",
    "efficiency = 0\n",
    "fake = 0\n",
    "\n",
    "for i in range(N_events):\n",
    "    fname = '/data/gnn_code/training_data/'+dataset+'/processed/data_'+str(i)+'.pt'\n",
    "#     print(fname)\n",
    "    file_results = process_file(fname)\n",
    "    \n",
    "    if i == 0:\n",
    "        efficiency = file_results[0]\n",
    "        fake       = file_results[1]\n",
    "        \n",
    "    else:\n",
    "        efficiency = np.append(efficiency, file_results[0])\n",
    "        fake       = np.append(fake,       file_results[1])\n",
    "#     print(\"Track Efficiency = \" + str(efficiency/(i+1)))\n",
    "#     print(\"Fake Fraction = \" + str(fake/(i+1)))\n",
    "\n",
    "average_efficiency  = efficiency.mean()\n",
    "variance_efficiency = efficiency.std()\n",
    "average_fake  = fake.mean()\n",
    "variance_fake = fake.std()\n",
    "\n",
    "print(\"Average Track Efficiency is \" + str(average_efficiency) + \" +/- \" + str(variance_efficiency))\n",
    "print(\"Average Fake Fraction is \" + str(average_fake) + \" +/- \" + str(variance_fake))\n",
    "\n",
    "file = open(plot_prefix + 'efficiency.txt', 'w')\n",
    "file.write('Average Track Efficiency is ' + str(average_efficiency) + \" +/- \" + str(variance_efficiency) + '\\n')\n",
    "file.write('Average Fake Fraction is ' + str(average_fake) + \" +/- \" + str(variance_fake) + '\\n')\n",
    "file.close()"
   ]
  },
  {
   "cell_type": "code",
   "execution_count": 8,
   "metadata": {},
   "outputs": [
    {
     "data": {
      "image/png": "[encoded data removed]",
      "text/plain": [
       "<Figure size 2000x2000 with 1 Axes>"
      ]
     },
     "metadata": {
      "needs_background": "light"
     },
     "output_type": "display_data"
    }
   ],
   "source": [
    "draw_sample(X_coordinate, 'X[mm]', -R_max, R_max, \n",
    "            Y_coordinate, 'Y[mm]', -R_max, R_max)"
   ]
  },
  {
   "cell_type": "code",
   "execution_count": 9,
   "metadata": {},
   "outputs": [
    {
     "data": {
      "image/png": "[encoded data removed]",
      "text/plain": [
       "<Figure size 2000x2000 with 1 Axes>"
      ]
     },
     "metadata": {
      "needs_background": "light"
     },
     "output_type": "display_data"
    }
   ],
   "source": [
    "draw_sample(Z_coordinate, 'Z[mm]', -Z_max, Z_max, \n",
    "            R_coordinate, 'R[mm]', 0, R_max)"
   ]
  },
  {
   "cell_type": "code",
   "execution_count": null,
   "metadata": {},
   "outputs": [],
   "source": []
  },
  {
   "cell_type": "code",
   "execution_count": null,
   "metadata": {},
   "outputs": [],
   "source": []
  },
  {
   "cell_type": "code",
   "execution_count": null,
   "metadata": {},
   "outputs": [],
   "source": []
  }
 ],
 "metadata": {
  "kernelspec": {
   "display_name": "Python 3",
   "language": "python",
   "name": "python3"
  },
  "language_info": {
   "codemirror_mode": {
    "name": "ipython",
    "version": 3
   },
   "file_extension": ".py",
   "mimetype": "text/x-python",
   "name": "python",
   "nbconvert_exporter": "python",
   "pygments_lexer": "ipython3",
   "version": "3.6.9"
  }
 },
 "nbformat": 4,
 "nbformat_minor": 2
}
