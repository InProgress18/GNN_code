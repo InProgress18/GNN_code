{
 "cells": [
  {
   "cell_type": "code",
   "execution_count": 1,
   "metadata": {},
   "outputs": [],
   "source": [
    "import numpy as np\n",
    "from datasets.graph import load_graph\n",
    "from matplotlib import pyplot as plt"
   ]
  },
  {
   "cell_type": "code",
   "execution_count": 2,
   "metadata": {},
   "outputs": [],
   "source": [
    "def get_z0_phi_slope(fname):\n",
    "    g = load_graph(fname)\n",
    "\n",
    "    n_nodes = g.Ro[2]\n",
    "    n_edges = g.Ro[3]\n",
    "    X = g.X\n",
    "    y = g.y\n",
    "    Ro_flat = g.Ro[0][0][np.argsort(g.Ro[0][1])]           \n",
    "    Ri_flat = g.Ri[0][0][np.argsort(g.Ri[0][1])]                       \n",
    "\n",
    "\n",
    "    R_coordinate = np.zeros(n_nodes)\n",
    "    R_coordinate[:] = 1000*X[:,0]\n",
    "\n",
    "    Z_coordinate = np.zeros(n_nodes)\n",
    "    Z_coordinate[:] = 1000*X[:,2]\n",
    "\n",
    "    Phi_coordinate = np.zeros(n_nodes)\n",
    "    Phi_coordinate[:] = np.pi*X[:,1]\n",
    "\n",
    "    delta_R   = np.zeros(n_edges)\n",
    "    delta_phi = np.zeros(n_edges)\n",
    "    delta_Z = np.zeros(n_edges)\n",
    "    Z0      = np.zeros(n_edges)\n",
    "\n",
    "    for i in range(n_edges):\n",
    "        delta_R[i] = R_coordinate[Ri_flat[i]] - R_coordinate[Ro_flat[i]]\n",
    "        delta_Z[i] = Z_coordinate[Ri_flat[i]] - Z_coordinate[Ro_flat[i]]\n",
    "        Z0[i]      = Z_coordinate[Ri_flat[i]] - R_coordinate[Ri_flat[i]] * delta_Z[i] / delta_R[i]\n",
    "        delta_phi[i] = abs(Phi_coordinate[Ri_flat[i]] - Phi_coordinate[Ro_flat[i]])\n",
    "        if delta_phi[i] > np.pi:\n",
    "            delta_phi[i] = abs(delta_phi[i] - 2*np.pi)\n",
    "\n",
    "    phi_slope = abs(delta_phi/delta_R)\n",
    "    phi_slope_true  = phi_slope[y > 0]\n",
    "    Z0_true  = abs(Z0[y > 0])\n",
    "           \n",
    "    return Z0_true, phi_slope_true"
   ]
  },
  {
   "cell_type": "code",
   "execution_count": 4,
   "metadata": {},
   "outputs": [
    {
     "name": "stdout",
     "output_type": "stream",
     "text": [
      "Average fraction = 0.9904224689901064\n",
      "Average cut = 0.0006084000000000082\n",
      "Recalculated fraction = 0.9903109321624101\n"
     ]
    }
   ],
   "source": [
    "N_events = 100\n",
    "\n",
    "for i in range(N_events):\n",
    "    event_num = 1000 + i \n",
    "    fname = '/data/gnn_code/heptrkx-gnn-tracking/output/event00000' + str(event_num) + '_g000.npz'\n",
    "\n",
    "    file_results = get_z0_phi_slope(fname)\n",
    "    z0 = file_results[0]\n",
    "    phi_slope = file_results[1]\n",
    "    \n",
    "    print(i, z0)\n",
    "\n"
   ]
  },
  {
   "cell_type": "code",
   "execution_count": null,
   "metadata": {},
   "outputs": [],
   "source": [
    "cuts  = np.array([cut97, cut975, cut98, cut985, cut99, cut995])\n",
    "fracs = np.array([fra97, fra975, fra98, fra985, fra99, fra995])    \n",
    "fig, (ax0) = plt.subplots(1, 1, dpi=100, figsize=(5, 5))\n",
    "\n",
    "# Adjust axes\n",
    "ax0.set_xlabel('phi slope cut')\n",
    "ax0.set_ylabel('truth edge efficiency')\n",
    "ax0.set_xlim(0, .001)\n",
    "ax0.set_ylim(.97, 1)\n",
    "\n",
    "#plot points\n",
    "ax0.scatter(cuts, fracs, s=10, c='k')\n",
    "#Draw Edges\n",
    "ax0.plot(cuts, fracs, '-', c='blue', linewidth=1)\n",
    "\n",
    "plot_prefix = '/data/gnn_code/hgcal_ldrd/plots/phi_slope_3.0.png'\n",
    "fig.savefig(plot_prefix)\n",
    "\n",
    "print(cuts)\n",
    "print(fracs)"
   ]
  },
  {
   "cell_type": "code",
   "execution_count": null,
   "metadata": {},
   "outputs": [],
   "source": [
    "# 0.5 GeV\n",
    "[0.00062401 0.00063666 0.00065541 0.00068962 0.00076729 0.00102508]\n",
    "[0.9703607  0.97528872 0.98023904 0.98527978 0.9901768  0.99498122]\n",
    "\n",
    "# 1.0 GeV\n",
    "[0.000329   0.00033982 0.0003554  0.00038213 0.00042996 0.00057636]\n",
    "[0.97045168 0.97544074 0.98035581 0.98542354 0.99038962 0.99513465]\n",
    "\n",
    "# 1.5 GeV\n",
    "[0.00023432 0.00024431 0.00025861 0.00027923 0.00031572 0.00041467]\n",
    "[0.97054111 0.97548368 0.98047324 0.98546228 0.99053095 0.99526977]\n",
    "\n",
    "# 2.0 GeV\n",
    "[0.00018995 0.00020011 0.00021385 0.00023585 0.00027183 0.00037549]\n",
    "[0.97083573 0.97580426 0.98067154 0.98600653 0.99097409 0.99584832]\n",
    "\n",
    "# 2.5 GeV\n",
    "[0.00017005 0.00018182 0.00019686 0.00022215 0.00027716 0.0003923 ]\n",
    "[0.97306096 0.97749768 0.98230785 0.98660623 0.99214735 0.99571339]\n",
    "\n",
    "# 3.0 GeV\n",
    "[0.00015986 0.00017407 0.0001912  0.00023086 0.00029815 0.00050837]\n",
    "[0.97334453 0.97841265 0.98288316 0.98836482 0.99274627 0.99614951]"
   ]
  },
  {
   "cell_type": "code",
   "execution_count": null,
   "metadata": {},
   "outputs": [],
   "source": []
  }
 ],
 "metadata": {
  "kernelspec": {
   "display_name": "Python 3",
   "language": "python",
   "name": "python3"
  },
  "language_info": {
   "codemirror_mode": {
    "name": "ipython",
    "version": 3
   },
   "file_extension": ".py",
   "mimetype": "text/x-python",
   "name": "python",
   "nbconvert_exporter": "python",
   "pygments_lexer": "ipython3",
   "version": "3.6.9"
  }
 },
 "nbformat": 4,
 "nbformat_minor": 2
}
