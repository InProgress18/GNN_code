{
 "cells": [
  {
   "cell_type": "code",
   "execution_count": 1,
   "metadata": {},
   "outputs": [],
   "source": [
    "import numpy as np\n",
    "import torch"
   ]
  },
  {
   "cell_type": "code",
   "execution_count": 2,
   "metadata": {},
   "outputs": [],
   "source": [
    "def process_file(fname):\n",
    "    data = torch.load(fname).to('cuda:0')\n",
    "    \n",
    "    X = data.x.cpu().numpy()\n",
    "    n_nodes = X.shape[0]\n",
    "\n",
    "    R_coordinate = np.zeros(n_nodes)\n",
    "    R_coordinate[:] = 1000*X[:,0]\n",
    "    Z_coordinate = np.zeros(n_nodes)\n",
    "    Z_coordinate[:] = 1000*X[:,2]\n",
    "    \n",
    "    Z_min = Z_coordinate.min()\n",
    "    Z_max = Z_coordinate.max()\n",
    "    R0 = R_coordinate[np.logical_and(R_coordinate >   0, R_coordinate <  50)].mean()\n",
    "    R1 = R_coordinate[np.logical_and(R_coordinate >  50, R_coordinate < 100)].mean()\n",
    "    R2 = R_coordinate[np.logical_and(R_coordinate > 100, R_coordinate < 150)].mean()\n",
    "    R3 = R_coordinate[np.logical_and(R_coordinate > 150, R_coordinate < 200)].mean()\n",
    "\n",
    "    return Z_min, Z_max, R0, R1, R2, R3"
   ]
  },
  {
   "cell_type": "code",
   "execution_count": 3,
   "metadata": {},
   "outputs": [
    {
     "name": "stdout",
     "output_type": "stream",
     "text": [
      "Minimum Z coordinate = -490.97198486328125\n",
      "Maximum Z coordinate = 490.968994140625\n",
      "Average R coordinate Layer 0 = 31.977077238635893\n",
      "Average R coordinate Layer 1 = 71.93750659810385\n",
      "Average R coordinate Layer 2 = 115.88137978761375\n",
      "Average R coordinate Layer 3 = 171.84604252469057\n",
      "Delta R between 0 and 1 = 39.96042935946796\n",
      "Delta R between 1 and 2 = 43.9438731895099\n",
      "Delta R between 2 and 3 = 55.96466273707682\n"
     ]
    }
   ],
   "source": [
    "N_events = 8750\n",
    "z_min = 0\n",
    "z_max = 0\n",
    "r0 = 0\n",
    "r1 = 0\n",
    "r2 = 0\n",
    "r3 = 0\n",
    "\n",
    "\n",
    "for i in range(N_events):\n",
    "    fname = '/data/all_track_lowpt_ec/processed/data_'+str(i)+'.pt'\n",
    "    file_results = process_file(fname)\n",
    "\n",
    "    if file_results[0] < z_min:\n",
    "        z_min = file_results[0]        \n",
    "    if file_results[1] > z_max:\n",
    "        z_max = file_results[1]        \n",
    "    r0 += file_results[2]\n",
    "    r1 += file_results[3]\n",
    "    r2 += file_results[4]\n",
    "    r3 += file_results[5]\n",
    "\n",
    "r_mean0 = r0/N_events    \n",
    "r_mean1 = r1/N_events    \n",
    "r_mean2 = r2/N_events    \n",
    "r_mean3 = r3/N_events    \n",
    "\n",
    "print(\"Minimum Z coordinate = \" + str(z_min))\n",
    "print(\"Maximum Z coordinate = \" + str(z_max))\n",
    "print(\"Average R coordinate Layer 0 = \" + str(r_mean0))\n",
    "print(\"Average R coordinate Layer 1 = \" + str(r_mean1))\n",
    "print(\"Average R coordinate Layer 2 = \" + str(r_mean2))\n",
    "print(\"Average R coordinate Layer 3 = \" + str(r_mean3))\n",
    "\n",
    "print(\"Delta R between 0 and 1 = \" + str(r_mean1-r_mean0))\n",
    "print(\"Delta R between 1 and 2 = \" + str(r_mean2-r_mean1))\n",
    "print(\"Delta R between 2 and 3 = \" + str(r_mean3-r_mean2))\n"
   ]
  },
  {
   "cell_type": "code",
   "execution_count": null,
   "metadata": {},
   "outputs": [],
   "source": []
  }
 ],
 "metadata": {
  "kernelspec": {
   "display_name": "Python 3",
   "language": "python",
   "name": "python3"
  },
  "language_info": {
   "codemirror_mode": {
    "name": "ipython",
    "version": 3
   },
   "file_extension": ".py",
   "mimetype": "text/x-python",
   "name": "python",
   "nbconvert_exporter": "python",
   "pygments_lexer": "ipython3",
   "version": "3.6.9"
  }
 },
 "nbformat": 4,
 "nbformat_minor": 2
}
